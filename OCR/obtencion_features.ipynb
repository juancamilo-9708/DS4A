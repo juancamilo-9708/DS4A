{
 "cells": [
  {
   "cell_type": "markdown",
   "metadata": {},
   "source": [
    "# Busqueda de caracteristicas"
   ]
  },
  {
   "cell_type": "markdown",
   "metadata": {},
   "source": [
    "### Identificación del victimario (Guerrilla /Campesino de la Zona / Presunto Testaferro / Bacrim / Paramilitar / Entidad del Estado / Persona Jurídica / Persona Natural /Simpatizante de Grupo Armado o Bacrim / Empresa)"
   ]
  },
  {
   "cell_type": "code",
   "execution_count": 77,
   "metadata": {},
   "outputs": [],
   "source": [
    "import os\n",
    "import json\n",
    "\n",
    "path = 'output_txt_v1/ouput_txt/2013-00202  Tablón de Gómez  31 Marzo 2016.txt'\n",
    "total_text = ''\n",
    "with open(path) as f:\n",
    "    lines = f.readlines()\n",
    "    lines=lines[0]\n",
    "    lines = json.loads(lines)\n",
    "\n"
   ]
  },
  {
   "cell_type": "code",
   "execution_count": 78,
   "metadata": {},
   "outputs": [],
   "source": [
    "for i in range(len(lines)):\n",
    "    lines[i] = lines[f\"page\"+str(i)]\n",
    "    del lines[f\"page\"+str(i)]\n"
   ]
  },
  {
   "cell_type": "code",
   "execution_count": 79,
   "metadata": {},
   "outputs": [],
   "source": [
    "nested_text = \"\"\n",
    "for key, value in sorted(lines.items(), key=lambda item: int(item[0])):\n",
    "    nested_text = nested_text+\" \"+lines[key] "
   ]
  },
  {
   "cell_type": "markdown",
   "metadata": {},
   "source": [
    "### Listado de Grupos al margen de la ley."
   ]
  },
  {
   "cell_type": "code",
   "execution_count": 80,
   "metadata": {},
   "outputs": [],
   "source": [
    "list_margen = [\"Farc\",\"farc\",\"ELN\",\"Bacrim\",\"bacrim\",\"Paramilitar\",\"Paramilitares\",\"clan del golfo\",\"rastrojos\"]"
   ]
  },
  {
   "cell_type": "code",
   "execution_count": 81,
   "metadata": {},
   "outputs": [],
   "source": [
    "def count_groups_margen(text:str):\n",
    "    list_result = {}\n",
    "    for item_margen in list_margen:\n",
    "        list_result[item_margen] = text.count(item_margen)\n",
    "    return list_result\n",
    "\n",
    "list_result = count_groups_margen(nested_text)\n"
   ]
  },
  {
   "cell_type": "code",
   "execution_count": 84,
   "metadata": {},
   "outputs": [
    {
     "data": {
      "text/plain": [
       "'Farc'"
      ]
     },
     "execution_count": 84,
     "metadata": {},
     "output_type": "execute_result"
    }
   ],
   "source": [
    "import operator\n",
    "\n",
    "def get_group(max_dict):\n",
    "    new_ma_val = max(max_dict.items(), key=operator.itemgetter(1))[0]\n",
    "    return new_ma_val\n",
    "get_group(list_result)"
   ]
  },
  {
   "cell_type": "code",
   "execution_count": 82,
   "metadata": {},
   "outputs": [
    {
     "data": {
      "image/png": "[encoded data removed]",
      "text/plain": [
       "<Figure size 720x360 with 1 Axes>"
      ]
     },
     "metadata": {
      "needs_background": "light"
     },
     "output_type": "display_data"
    }
   ],
   "source": [
    "import matplotlib.pyplot as plt\n",
    " \n",
    "  \n",
    "# creating the dataset\n",
    "groups = list(list_result.keys())\n",
    "values = list(list_result.values())\n",
    "  \n",
    "fig = plt.figure(figsize = (10, 5))\n",
    " \n",
    "# creating the bar plot\n",
    "plt.bar(groups, values, color ='maroon',\n",
    "        width = 0.4)\n",
    " \n",
    "plt.xlabel(\"Name illegal armed groups\")\n",
    "plt.ylabel(\"No. of mentions\")\n",
    "plt.title(\"Number of mentions of groups outside the law dataset\")\n",
    "plt.show()"
   ]
  }
 ],
 "metadata": {
  "interpreter": {
   "hash": "3f40f469aa3de473da9bb584eb34689ebbcefb38e9f3c5fbd220228e8b757913"
  },
  "kernelspec": {
   "display_name": "Python 3.8.9 ('venv': venv)",
   "language": "python",
   "name": "python3"
  },
  "language_info": {
   "codemirror_mode": {
    "name": "ipython",
    "version": 3
   },
   "file_extension": ".py",
   "mimetype": "text/x-python",
   "name": "python",
   "nbconvert_exporter": "python",
   "pygments_lexer": "ipython3",
   "version": "3.9.12"
  },
  "orig_nbformat": 4
 },
 "nbformat": 4,
 "nbformat_minor": 2
}
