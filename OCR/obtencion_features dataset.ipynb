{
 "cells": [
  {
   "cell_type": "markdown",
   "metadata": {},
   "source": [
    "# Busqueda de caracteristicas"
   ]
  },
  {
   "cell_type": "markdown",
   "metadata": {},
   "source": [
    "### Identificación del victimario (Guerrilla /Campesino de la Zona / Presunto Testaferro / Bacrim / Paramilitar / Entidad del Estado / Persona Jurídica / Persona Natural /Simpatizante de Grupo Armado o Bacrim / Empresa)"
   ]
  },
  {
   "cell_type": "code",
   "execution_count": 46,
   "metadata": {},
   "outputs": [],
   "source": [
    "\n",
    "def renaming_keys(lines):\n",
    "    for i in range(len(lines)):\n",
    "        lines[i] = lines[f\"page\"+str(i)]\n",
    "        del lines[f\"page\"+str(i)]\n",
    "    return lines\n"
   ]
  },
  {
   "cell_type": "code",
   "execution_count": 47,
   "metadata": {},
   "outputs": [],
   "source": [
    "def concat_text_sentence(dictionary_file):\n",
    "    nested_text = \"\"\n",
    "    for key, value in sorted(dictionary_file.items(), key=lambda item: int(item[0])):\n",
    "        nested_text = nested_text+\" \"+dictionary_file[key] \n",
    "    return nested_text"
   ]
  },
  {
   "cell_type": "code",
   "execution_count": 48,
   "metadata": {},
   "outputs": [],
   "source": [
    "list_margen = [\"Farc\",\"farc\",\"ELN\",\"Bacrim\",\"bacrim\",\"Paramilitar\",\"Paramilitares\",\"clan del golfo\",\"rastrojos\"]"
   ]
  },
  {
   "cell_type": "code",
   "execution_count": 49,
   "metadata": {},
   "outputs": [],
   "source": [
    "def count_groups_margen(text:str):\n",
    "    list_result = {}\n",
    "    for item_margen in list_margen:\n",
    "        list_result[item_margen] = text.count(item_margen)\n",
    "    return list_result"
   ]
  },
  {
   "cell_type": "code",
   "execution_count": 50,
   "metadata": {},
   "outputs": [],
   "source": [
    "import operator\n",
    "\n",
    "def get_group(max_dict):\n",
    "    new_ma_val = max(max_dict.items(), key=operator.itemgetter(1))[0]\n",
    "    return new_ma_val\n"
   ]
  },
  {
   "cell_type": "code",
   "execution_count": 51,
   "metadata": {},
   "outputs": [
    {
     "name": "stdout",
     "output_type": "stream",
     "text": [
      "Reading file 540013121002-201300097-00  Tibú  16 febrero 2018.txt\n",
      "Reading file 050453121002-201400055-01 Chigorodó 22 noviembre 2018.txt\n",
      "Reading file 2016-00074 Remolino 15 Enero 2018.txt\n",
      "Reading file 470013121002-201300074-00 Ciénaga 11 junio 2015.txt\n",
      "Reading file 190013121001-201500164-00  Santander de Quilichao  01 Diciembre 2017.txt\n",
      "Reading file 470013121001-201400089-00 Remolino 04 diciembre 2015.txt\n",
      "Reading file 540013121001-201300051-01 Tibú 21 Junio 2018.txt\n",
      "Reading file 470013121002-201400025-00  Remolino  14 Diciembre 2016.txt\n",
      "Reading file 540013121002-201500006-00 Cúcuta 22 Marzo 2019.txt\n",
      "Reading file 528353121001-201300112-00 Tablón de Gómez 12 Diciembre 2017.txt\n",
      "Reading file 050453121001-201601732-00 Chigorodó 19 Diciembre 2017.txt\n",
      "Reading file 540013121002-201300204-00 Cúcuta 24 Marzo 2015.txt\n",
      "Reading file 520013121003-201600128-00 Tablón de Gómez 22 Marzo 2019.txt\n",
      "Reading file 470013121002-201300092-00 Ciénaga 28 enero 2015.txt\n",
      "Reading file 540013121002-201300225-01 Tibú 19 Abril 2017.txt\n",
      "Reading file 190013121001-201500032-00  Santander de Quilichao  27 Enero 2016.txt\n",
      "Reading file 470013121002-201300080-00 Ciénaga 06 Junio 2014.txt\n",
      "Reading file 270013121001-201400099-00 Unguía 28 Junio 2018.PDF.txt\n",
      "Reading file 270013121001-201400106-00  Unguía  05 Abril 2016.txt\n",
      "Reading file 190013121001-201600083-00 TIMBÍO 27 de Junio de 2018.PDF.txt\n",
      "Reading file 520013121002-201600046-01 Tablón de Gómez 07 arzpo 2018.txt\n",
      "Reading file 190013121001-201400122-00 Santander de Quilichao 08 Octubre 2015.txt\n",
      "Reading file 050453121001-201500222-00 Chigorodo 8 octubre 2018.txt\n",
      "Reading file 190013121001-201700128-00 Santander de Quilichao 31 julio 2018.txt\n",
      "Reading file 470013121002-201300001-00 Ciénaga 11 Octubre 2013.txt\n",
      "Reading file 270013121001-201500053-00  Unguía  18 Abril 2018.txt\n",
      "Reading file 470013121002-201300097-00 Ciénaga 21 agosto 2015.txt\n",
      "Reading file 540013121002-201500389-01 Cúcuta 20 Marzo 2018.txt\n",
      "Reading file 540013121001-201300110-01 Tibú 12 Diciembre 2018.txt\n",
      "Reading file 470013121002-201300048-00 Ciénaga 10 Marzo 2014.txt\n",
      "Reading file 540013121002-201500094-01  Cúcuta  13 Octubre 2017.PDF.txt\n",
      "Reading file 470013121001-201400058-00 Remolino 18 septiembre 2015.txt\n",
      "Reading file 050453121002-201601703-00 Chigorodó  22 enero 2018.txt\n",
      "Reading file 190013121001-201500002-01  Timbió  15 Diciembre 2016.PDF.txt\n",
      "Reading file 190013121001-201600005-00  Toribio  31 Octubre 2017.txt\n",
      "Reading file 2014-00025  Tablón de Gómez  18 Diciembre 2015.txt\n",
      "Reading file 190013121001-201600164-00 Toribío 18 Junio 2018.txt\n",
      "Reading file 190013121001-201400148-01 Timbío 11 noviembre 2015.PDF.txt\n",
      "Reading file 470013121002-201400072-00 Remolino 20 marzo 2018.PDF.txt\n",
      "Reading file 2013-00202  Tablón de Gómez  31 Marzo 2016.txt\n",
      "Reading file 540012221002-2013-00086-00-Tibu-25-de-Febrero-2014.PDF.txt\n",
      "Reading file 470013121002-201300098-00 Ciénaga 02 febrero 2015.txt\n",
      "Reading file 050453121001-201601609-01 Chigorodo 12 octubre 2018.txt\n",
      "Reading file 190013121001-201600105-00  Toribío  18 Septiembre 2017.txt\n",
      "Reading file 050453121001-201601697-01 Chigorodó 27 noviembre 2018.txt\n",
      "Reading file 470013121002-201300034-00  Ciénaga  06 Marzo 2014.txt\n",
      "Reading file 050453121001-201601445-00 Chigorodó 23 Marzo 2018.txt\n",
      "Reading file 470013121001-201500013-00  Ciénaga  16 Diciembre 2016.txt\n",
      "Reading file 540013121002-201400001-00 Tibú 18 Marzo 2019.txt\n",
      "Reading file 470013121002-201500002-00  Ciénaga  15 Marzo 2016.txt\n"
     ]
    }
   ],
   "source": [
    "import os\n",
    "import json\n",
    "\n",
    "path = 'output_txt_v1/ouput_txt/'\n",
    "files = os.listdir(path)\n",
    "total_text = ''\n",
    "dict_margen = {\"Farc\":0,\"farc\":0,\"ELN\":0,\"Bacrim\":0,\"bacrim\":0,\"Paramilitar\":0,\"Paramilitares\":0,\"clan del golfo\":0,\"rastrojos\":0}\n",
    "for file in files:\n",
    "    print(f'Reading file {file}')\n",
    "    with open(path+file) as f:\n",
    "        lines = f.readlines()\n",
    "        lines=lines[0]\n",
    "        lines = json.loads(lines)\n",
    "        lines = renaming_keys(lines)\n",
    "        lines = concat_text_sentence(lines)\n",
    "        group_margen = count_groups_margen(lines)\n",
    "        name_margen = get_group(group_margen)\n",
    "        dict_margen[name_margen] = int(dict_margen[name_margen]) + 1 \n",
    "dict_margen\n"
   ]
  },
  {
   "cell_type": "code",
   "execution_count": 53,
   "metadata": {},
   "outputs": [
    {
     "data": {
      "text/plain": [
       "{'Farc': 18,\n",
       " 'farc': 1,\n",
       " 'ELN': 30,\n",
       " 'Bacrim': 0,\n",
       " 'bacrim': 0,\n",
       " 'Paramilitar': 1,\n",
       " 'Paramilitares': 0,\n",
       " 'clan del golfo': 0,\n",
       " 'rastrojos': 0}"
      ]
     },
     "execution_count": 53,
     "metadata": {},
     "output_type": "execute_result"
    }
   ],
   "source": [
    "dict_margen"
   ]
  },
  {
   "cell_type": "code",
   "execution_count": 54,
   "metadata": {},
   "outputs": [
    {
     "data": {
      "image/png": "[encoded data removed]",
      "text/plain": [
       "<Figure size 720x360 with 1 Axes>"
      ]
     },
     "metadata": {
      "needs_background": "light"
     },
     "output_type": "display_data"
    }
   ],
   "source": [
    "import matplotlib.pyplot as plt\n",
    " \n",
    "  \n",
    "# creating the dataset\n",
    "groups = list(dict_margen.keys())\n",
    "values = list(dict_margen.values())\n",
    "  \n",
    "fig = plt.figure(figsize = (10, 5))\n",
    " \n",
    "# creating the bar plot\n",
    "plt.bar(groups, values, color ='green',\n",
    "        width = 0.4)\n",
    " \n",
    "plt.xlabel(\"Name illegal armed groups\")\n",
    "plt.ylabel(\"No. of mentions\")\n",
    "plt.title(\"Number of mentions of groups outside the law dataset\")\n",
    "plt.show()"
   ]
  }
 ],
 "metadata": {
  "interpreter": {
   "hash": "3f40f469aa3de473da9bb584eb34689ebbcefb38e9f3c5fbd220228e8b757913"
  },
  "kernelspec": {
   "display_name": "Python 3.8.9 ('venv': venv)",
   "language": "python",
   "name": "python3"
  },
  "language_info": {
   "codemirror_mode": {
    "name": "ipython",
    "version": 3
   },
   "file_extension": ".py",
   "mimetype": "text/x-python",
   "name": "python",
   "nbconvert_exporter": "python",
   "pygments_lexer": "ipython3",
   "version": "3.8.9"
  },
  "orig_nbformat": 4
 },
 "nbformat": 4,
 "nbformat_minor": 2
}
